{
 "cells": [
  {
   "cell_type": "code",
   "execution_count": 140,
   "id": "eb0c87f1-ee02-4bb4-8145-0e4072507f78",
   "metadata": {},
   "outputs": [],
   "source": [
    "import pandas as pd\n",
    "import numpy as np\n",
    "import matplotlib.pyplot as plt"
   ]
  },
  {
   "cell_type": "code",
   "execution_count": 141,
   "id": "e25eaa12-cec7-46ea-bfe8-5a398f08747a",
   "metadata": {},
   "outputs": [
    {
     "name": "stderr",
     "output_type": "stream",
     "text": [
      "/var/folders/7r/1p6kjcd133s6g0q2q5hnww4c0000gn/T/ipykernel_37249/2700248440.py:2: DtypeWarning: Columns (10) have mixed types. Specify dtype option on import or set low_memory=False.\n",
      "  df24_3 = pd.read_csv('indego-trips-2024-q3.csv')\n",
      "/var/folders/7r/1p6kjcd133s6g0q2q5hnww4c0000gn/T/ipykernel_37249/2700248440.py:3: DtypeWarning: Columns (10) have mixed types. Specify dtype option on import or set low_memory=False.\n",
      "  df24_2 = pd.read_csv('indego-trips-2024-q2.csv')\n",
      "/var/folders/7r/1p6kjcd133s6g0q2q5hnww4c0000gn/T/ipykernel_37249/2700248440.py:4: DtypeWarning: Columns (10) have mixed types. Specify dtype option on import or set low_memory=False.\n",
      "  df24_1 = pd.read_csv('indego-trips-2024-q1.csv')\n"
     ]
    }
   ],
   "source": [
    "#2024\n",
    "df24_3 = pd.read_csv('indego-trips-2024-q3.csv')\n",
    "df24_2 = pd.read_csv('indego-trips-2024-q2.csv')\n",
    "df24_1 = pd.read_csv('indego-trips-2024-q1.csv')\n",
    "df24 = pd.concat([df24_1, df24_2, df24_3], axis=0, ignore_index=True)"
   ]
  },
  {
   "cell_type": "code",
   "execution_count": 142,
   "id": "b8dae945-adea-4926-b722-d452e7b48b0b",
   "metadata": {},
   "outputs": [
    {
     "name": "stderr",
     "output_type": "stream",
     "text": [
      "/var/folders/7r/1p6kjcd133s6g0q2q5hnww4c0000gn/T/ipykernel_37249/2869370722.py:2: DtypeWarning: Columns (10) have mixed types. Specify dtype option on import or set low_memory=False.\n",
      "  df23_4 = pd.read_csv('indego-trips-2023-q4.csv')\n",
      "/var/folders/7r/1p6kjcd133s6g0q2q5hnww4c0000gn/T/ipykernel_37249/2869370722.py:3: DtypeWarning: Columns (10) have mixed types. Specify dtype option on import or set low_memory=False.\n",
      "  df23_3 = pd.read_csv('indego-trips-2023-q3-2.csv')\n",
      "/var/folders/7r/1p6kjcd133s6g0q2q5hnww4c0000gn/T/ipykernel_37249/2869370722.py:4: DtypeWarning: Columns (10) have mixed types. Specify dtype option on import or set low_memory=False.\n",
      "  df23_2 = pd.read_csv('indego-trips-2023-q2.csv')\n"
     ]
    }
   ],
   "source": [
    "#2023\n",
    "df23_4 = pd.read_csv('indego-trips-2023-q4.csv')\n",
    "df23_3 = pd.read_csv('indego-trips-2023-q3-2.csv')\n",
    "df23_2 = pd.read_csv('indego-trips-2023-q2.csv')\n",
    "df23_1 = pd.read_csv('indego-trips-2023-q1.csv')\n",
    "df23 = pd.concat([df23_1, df23_2, df23_3, df23_4], axis=0, ignore_index=True)"
   ]
  },
  {
   "cell_type": "code",
   "execution_count": 143,
   "id": "0bf51c43-be34-4072-80fd-725d9a494f08",
   "metadata": {},
   "outputs": [
    {
     "name": "stderr",
     "output_type": "stream",
     "text": [
      "/var/folders/7r/1p6kjcd133s6g0q2q5hnww4c0000gn/T/ipykernel_37249/1407818546.py:2: DtypeWarning: Columns (10) have mixed types. Specify dtype option on import or set low_memory=False.\n",
      "  df22_4 = pd.read_csv('indego-trips-2022-q4.csv')\n",
      "/var/folders/7r/1p6kjcd133s6g0q2q5hnww4c0000gn/T/ipykernel_37249/1407818546.py:3: DtypeWarning: Columns (10) have mixed types. Specify dtype option on import or set low_memory=False.\n",
      "  df22_3 = pd.read_csv('indego-trips-2022-q3.csv')\n"
     ]
    }
   ],
   "source": [
    "#2022\n",
    "df22_4 = pd.read_csv('indego-trips-2022-q4.csv')\n",
    "df22_3 = pd.read_csv('indego-trips-2022-q3.csv')\n",
    "df22_2 = pd.read_csv('indego-trips-2022-q2.csv')\n",
    "df22_1 = pd.read_csv('indego-trips-2022-q1.csv')\n",
    "df22 = pd.concat([df22_1, df22_2, df22_3, df22_4], axis=0, ignore_index=True)"
   ]
  },
  {
   "cell_type": "code",
   "execution_count": 144,
   "id": "a13e2b58-d422-4554-b2cf-66d752f25d08",
   "metadata": {},
   "outputs": [
    {
     "name": "stderr",
     "output_type": "stream",
     "text": [
      "/var/folders/7r/1p6kjcd133s6g0q2q5hnww4c0000gn/T/ipykernel_37249/491899714.py:2: DtypeWarning: Columns (10) have mixed types. Specify dtype option on import or set low_memory=False.\n",
      "  df21_4 = pd.read_csv('indego-trips-2021-q4.csv')\n",
      "/var/folders/7r/1p6kjcd133s6g0q2q5hnww4c0000gn/T/ipykernel_37249/491899714.py:3: DtypeWarning: Columns (10) have mixed types. Specify dtype option on import or set low_memory=False.\n",
      "  df21_3 = pd.read_csv('indego-trips-2021-q3.csv')\n",
      "/var/folders/7r/1p6kjcd133s6g0q2q5hnww4c0000gn/T/ipykernel_37249/491899714.py:4: DtypeWarning: Columns (10) have mixed types. Specify dtype option on import or set low_memory=False.\n",
      "  df21_2 = pd.read_csv('indego-trips-2021-q2.csv')\n"
     ]
    }
   ],
   "source": [
    "#2021\n",
    "df21_4 = pd.read_csv('indego-trips-2021-q4.csv')\n",
    "df21_3 = pd.read_csv('indego-trips-2021-q3.csv')\n",
    "df21_2 = pd.read_csv('indego-trips-2021-q2.csv')\n",
    "df21_1 = pd.read_csv('indego-trips-2021-q1.csv')\n",
    "df21 = pd.concat([df21_1, df21_2, df21_3, df21_4], axis=0, ignore_index=True)"
   ]
  },
  {
   "cell_type": "code",
   "execution_count": 145,
   "id": "e540933f-a860-4a4c-b59d-5cd4e3dcaa54",
   "metadata": {},
   "outputs": [
    {
     "name": "stderr",
     "output_type": "stream",
     "text": [
      "/var/folders/7r/1p6kjcd133s6g0q2q5hnww4c0000gn/T/ipykernel_37249/1314865740.py:3: DtypeWarning: Columns (10) have mixed types. Specify dtype option on import or set low_memory=False.\n",
      "  df20_3 = pd.read_csv('indego-trips-2020-q3.csv')\n"
     ]
    }
   ],
   "source": [
    "#2020\n",
    "df20_4 = pd.read_csv('indego-trips-2020-q4.csv')\n",
    "df20_3 = pd.read_csv('indego-trips-2020-q3.csv')\n",
    "df20_2 = pd.read_csv('indego-trips-2020-q2.csv')\n",
    "df20_1 = pd.read_csv('indego-trips-2020-q1.csv')\n",
    "df20 = pd.concat([df20_1, df20_2, df20_3, df20_4], axis=0, ignore_index=True)"
   ]
  },
  {
   "cell_type": "code",
   "execution_count": 146,
   "id": "7ddad760-7ba1-43bd-adb6-37c421c74a23",
   "metadata": {},
   "outputs": [],
   "source": [
    "#2019\n",
    "df19_4 = pd.read_csv('indego-trips-2019-q4.csv')\n",
    "df19_3 = pd.read_csv('indego-trips-2019-q3.csv')\n",
    "df19_2 = pd.read_csv('indego-trips-2019-q2.csv')\n",
    "df19_1 = pd.read_csv('indego-trips-2019-q1.csv')\n",
    "df19 = pd.concat([df19_1, df19_2, df19_3, df19_4], axis=0, ignore_index=True)"
   ]
  },
  {
   "cell_type": "code",
   "execution_count": 147,
   "id": "3e9f8c0e-26f8-4bfd-b843-39a439da7c0d",
   "metadata": {},
   "outputs": [
    {
     "name": "stderr",
     "output_type": "stream",
     "text": [
      "/var/folders/7r/1p6kjcd133s6g0q2q5hnww4c0000gn/T/ipykernel_37249/2978988597.py:2: DtypeWarning: Columns (10) have mixed types. Specify dtype option on import or set low_memory=False.\n",
      "  df18_4 = pd.read_csv('indego-trips-2018-q4.csv')\n"
     ]
    }
   ],
   "source": [
    "#2018\n",
    "df18_4 = pd.read_csv('indego-trips-2018-q4.csv')\n",
    "df18_3 = pd.read_csv('indego-trips-2018-q3.csv')\n",
    "df18_2 = pd.read_csv('indego-trips-2018-q2.csv')\n",
    "df18_1 = pd.read_csv('indego-trips-2018-q1.csv')\n",
    "df18 = pd.concat([df18_1, df18_2, df18_3, df18_4], axis=0, ignore_index=True)"
   ]
  },
  {
   "cell_type": "code",
   "execution_count": 148,
   "id": "54f77661-8720-4881-8ab6-c729ccc9cf92",
   "metadata": {},
   "outputs": [],
   "source": [
    "#2017\n",
    "df17_4 = pd.read_csv('indego-quarter-echo.bicycletransit.com-2018-01-19-9-57 AM.csv')\n",
    "df17_3 = pd.read_csv('indego-trips-2017-q3.csv')\n",
    "df17_2 = pd.read_csv('indego_gbfs_trips_Q2_2017.csv')\n",
    "df17_1 = pd.read_csv('indego_gbfs_trips_Q1_2017.csv')\n",
    "df17 = pd.concat([df17_1, df17_2, df17_3, df17_4], axis=0, ignore_index=True)"
   ]
  },
  {
   "cell_type": "code",
   "execution_count": 149,
   "id": "49578e45-0583-491d-8b7c-272bb9bb6deb",
   "metadata": {},
   "outputs": [],
   "source": [
    "#2016\n",
    "df16_4 = pd.read_csv('Indego_trips_Q4_2016.csv')\n",
    "df16_3 = pd.read_csv('Q3_2016_trips.csv')\n",
    "df16_2 = pd.read_csv('Indego_Trips_2016Q2.csv')\n",
    "df16_1 = pd.read_csv('Indego_Trips_2016Q1.csv')\n",
    "df16 = pd.concat([df16_1, df16_2, df16_3, df16_4], axis=0, ignore_index=True)"
   ]
  },
  {
   "cell_type": "code",
   "execution_count": 150,
   "id": "88e3d1e7-4990-4810-9508-21829914c4bc",
   "metadata": {},
   "outputs": [
    {
     "name": "stderr",
     "output_type": "stream",
     "text": [
      "/var/folders/7r/1p6kjcd133s6g0q2q5hnww4c0000gn/T/ipykernel_37249/3491983075.py:3: DtypeWarning: Columns (10) have mixed types. Specify dtype option on import or set low_memory=False.\n",
      "  df15_3 = pd.read_csv('Indego_Trips_2015Q3.csv')\n"
     ]
    }
   ],
   "source": [
    "#2015\n",
    "df15_4 = pd.read_csv('Indego_Trips_2015Q4.csv')\n",
    "df15_3 = pd.read_csv('Indego_Trips_2015Q3.csv')\n",
    "df15_2 = pd.read_csv('Indego_Trips_2015Q2.csv')\n",
    "df15 = pd.concat([df15_2, df15_3, df15_4], axis=0, ignore_index=True)"
   ]
  },
  {
   "cell_type": "code",
   "execution_count": 151,
   "id": "c62de5ab-c802-4010-8df9-97d63b3777b3",
   "metadata": {},
   "outputs": [],
   "source": [
    "df18['start_time'] = pd.to_datetime(df18['start_time'])"
   ]
  },
  {
   "cell_type": "code",
   "execution_count": 152,
   "id": "caee8b53-f4c2-4c08-aadc-14b8ddbe4836",
   "metadata": {},
   "outputs": [],
   "source": [
    "df19['start_time'] = pd.to_datetime(df19['start_time'])"
   ]
  },
  {
   "cell_type": "code",
   "execution_count": 153,
   "id": "6438c0d6-14e2-4cc7-9f69-68043d7ad2f9",
   "metadata": {},
   "outputs": [],
   "source": [
    "df20['start_time'] = pd.to_datetime(df20['start_time'])"
   ]
  },
  {
   "cell_type": "code",
   "execution_count": 154,
   "id": "ef0d8b6e-3f44-4ea2-b43c-0b5a05013085",
   "metadata": {},
   "outputs": [],
   "source": [
    "df21['start_time'] = pd.to_datetime(df21['start_time'])"
   ]
  },
  {
   "cell_type": "code",
   "execution_count": 155,
   "id": "bc076bbb-547d-45f0-917d-18d26e5c99e4",
   "metadata": {},
   "outputs": [],
   "source": [
    "df22['start_time'] = pd.to_datetime(df22['start_time'])"
   ]
  },
  {
   "cell_type": "code",
   "execution_count": 156,
   "id": "7f60ba5b-2be4-4e2b-981a-69131ef01d47",
   "metadata": {},
   "outputs": [],
   "source": [
    "df23['start_time'] = pd.to_datetime(df23['start_time'])"
   ]
  },
  {
   "cell_type": "code",
   "execution_count": 157,
   "id": "4f8c7560-984f-4a39-8af6-eae8f14bae86",
   "metadata": {},
   "outputs": [],
   "source": [
    "df24['start_time'] = pd.to_datetime(df24['start_time'])"
   ]
  },
  {
   "cell_type": "code",
   "execution_count": 158,
   "id": "57adc5fe-4920-45cf-bb20-2f2779a727f8",
   "metadata": {},
   "outputs": [],
   "source": [
    "df18['end_time'] = pd.to_datetime(df18['end_time'])"
   ]
  },
  {
   "cell_type": "code",
   "execution_count": 159,
   "id": "aa46bbfc-e31a-41e7-805c-6e0914737c73",
   "metadata": {},
   "outputs": [],
   "source": [
    "df19['end_time'] = pd.to_datetime(df19['end_time'])"
   ]
  },
  {
   "cell_type": "code",
   "execution_count": 160,
   "id": "14fd5485-3683-4212-83d3-f71b9e846ff4",
   "metadata": {},
   "outputs": [],
   "source": [
    "df20['end_time'] = pd.to_datetime(df20['end_time'])"
   ]
  },
  {
   "cell_type": "code",
   "execution_count": 161,
   "id": "e04440cb-6f0e-44a4-ba26-78efe9e2ae20",
   "metadata": {},
   "outputs": [],
   "source": [
    "df21['end_time'] = pd.to_datetime(df21['end_time'])"
   ]
  },
  {
   "cell_type": "code",
   "execution_count": 162,
   "id": "2affff64-3631-4594-ac71-e36463b6ecff",
   "metadata": {},
   "outputs": [],
   "source": [
    "df22['end_time'] = pd.to_datetime(df22['end_time'])"
   ]
  },
  {
   "cell_type": "code",
   "execution_count": 163,
   "id": "8dfaf62c-dea3-40aa-b3ae-427085e49920",
   "metadata": {},
   "outputs": [],
   "source": [
    "df23['end_time'] = pd.to_datetime(df23['end_time'])"
   ]
  },
  {
   "cell_type": "code",
   "execution_count": 164,
   "id": "c080dc4f-951a-45cc-90b6-fcf77386ee72",
   "metadata": {},
   "outputs": [],
   "source": [
    "df24['end_time'] = pd.to_datetime(df24['end_time'])"
   ]
  },
  {
   "cell_type": "code",
   "execution_count": 165,
   "id": "ca22cb5e-4682-4f8a-a112-dc12b91875e3",
   "metadata": {},
   "outputs": [],
   "source": [
    "df = pd.concat([df18, df19, df20, df21, df22, df23, df24], axis=0, ignore_index=True)"
   ]
  },
  {
   "cell_type": "code",
   "execution_count": 181,
   "id": "5b7cbfcf-da95-4d5f-b3b6-c4c689d6b2aa",
   "metadata": {},
   "outputs": [
    {
     "data": {
      "text/plain": [
       "trip_id                         int64\n",
       "duration                        int64\n",
       "start_time             datetime64[ns]\n",
       "end_time               datetime64[ns]\n",
       "start_station                   int64\n",
       "start_lat                     float64\n",
       "start_lon                     float64\n",
       "end_station                     int64\n",
       "end_lat                       float64\n",
       "end_lon                       float64\n",
       "bike_id                        object\n",
       "plan_duration                 float64\n",
       "trip_route_category            object\n",
       "passholder_type                object\n",
       "bike_type                      object\n",
       "start_date                     object\n",
       "dtype: object"
      ]
     },
     "execution_count": 181,
     "metadata": {},
     "output_type": "execute_result"
    }
   ],
   "source": [
    "df.dtypes"
   ]
  },
  {
   "cell_type": "code",
   "execution_count": 167,
   "id": "ee2d0f49-06c3-47aa-b898-2d2b0b77efed",
   "metadata": {},
   "outputs": [
    {
     "data": {
      "text/plain": [
       "trip_id                0.000000\n",
       "duration               0.000000\n",
       "start_time             0.000000\n",
       "end_time               0.000000\n",
       "start_station          0.000000\n",
       "start_lat              0.011497\n",
       "start_lon              0.011497\n",
       "end_station            0.000000\n",
       "end_lat                1.428667\n",
       "end_lon                1.428667\n",
       "bike_id                0.000000\n",
       "plan_duration          0.000115\n",
       "trip_route_category    0.000000\n",
       "passholder_type        0.007544\n",
       "bike_type              4.951710\n",
       "dtype: float64"
      ]
     },
     "execution_count": 167,
     "metadata": {},
     "output_type": "execute_result"
    }
   ],
   "source": [
    "df.isnull().mean()*100"
   ]
  },
  {
   "cell_type": "code",
   "execution_count": 180,
   "id": "df8b2955-3064-4eb8-8dd0-a2a7e6d69c72",
   "metadata": {},
   "outputs": [],
   "source": [
    "df['start_date'] = df['start_time'].dt.date"
   ]
  },
  {
   "cell_type": "code",
   "execution_count": 169,
   "id": "049f05b7-a0c7-4d98-aa26-c06c5b003372",
   "metadata": {},
   "outputs": [],
   "source": [
    "df_count = df.groupby('start_date')['trip_id'].count()"
   ]
  },
  {
   "cell_type": "code",
   "execution_count": 171,
   "id": "52cd8616-d7c3-4545-a49c-24b96799a018",
   "metadata": {},
   "outputs": [],
   "source": [
    "df.to_csv('indego_18_to_24', index=False)"
   ]
  },
  {
   "cell_type": "code",
   "execution_count": 172,
   "id": "0f783d72-1a3a-4c41-941b-f4a90a953a05",
   "metadata": {},
   "outputs": [
    {
     "data": {
      "text/plain": [
       "(6070974, 16)"
      ]
     },
     "execution_count": 172,
     "metadata": {},
     "output_type": "execute_result"
    }
   ],
   "source": [
    "df.shape"
   ]
  },
  {
   "cell_type": "code",
   "execution_count": 178,
   "id": "76c033c7-771e-4b93-ad7d-0293adba4342",
   "metadata": {},
   "outputs": [
    {
     "data": {
      "text/html": [
       "<div>\n",
       "<style scoped>\n",
       "    .dataframe tbody tr th:only-of-type {\n",
       "        vertical-align: middle;\n",
       "    }\n",
       "\n",
       "    .dataframe tbody tr th {\n",
       "        vertical-align: top;\n",
       "    }\n",
       "\n",
       "    .dataframe thead th {\n",
       "        text-align: right;\n",
       "    }\n",
       "</style>\n",
       "<table border=\"1\" class=\"dataframe\">\n",
       "  <thead>\n",
       "    <tr style=\"text-align: right;\">\n",
       "      <th></th>\n",
       "      <th>trip_id</th>\n",
       "      <th>duration</th>\n",
       "      <th>start_time</th>\n",
       "      <th>end_time</th>\n",
       "      <th>start_station</th>\n",
       "      <th>start_lat</th>\n",
       "      <th>start_lon</th>\n",
       "      <th>end_station</th>\n",
       "      <th>end_lat</th>\n",
       "      <th>end_lon</th>\n",
       "      <th>bike_id</th>\n",
       "      <th>plan_duration</th>\n",
       "      <th>trip_route_category</th>\n",
       "      <th>passholder_type</th>\n",
       "      <th>bike_type</th>\n",
       "      <th>start_date</th>\n",
       "    </tr>\n",
       "  </thead>\n",
       "  <tbody>\n",
       "    <tr>\n",
       "      <th>6070969</th>\n",
       "      <td>1050279960</td>\n",
       "      <td>13</td>\n",
       "      <td>2024-09-30 23:55:00</td>\n",
       "      <td>2024-10-01 00:08:00</td>\n",
       "      <td>3033</td>\n",
       "      <td>39.950050</td>\n",
       "      <td>-75.156723</td>\n",
       "      <td>3061</td>\n",
       "      <td>39.954250</td>\n",
       "      <td>-75.177612</td>\n",
       "      <td>5323</td>\n",
       "      <td>30.0</td>\n",
       "      <td>One Way</td>\n",
       "      <td>Indego30</td>\n",
       "      <td>standard</td>\n",
       "      <td>2024-09-30</td>\n",
       "    </tr>\n",
       "    <tr>\n",
       "      <th>6070970</th>\n",
       "      <td>1050293367</td>\n",
       "      <td>19</td>\n",
       "      <td>2024-09-30 23:55:00</td>\n",
       "      <td>2024-10-01 00:14:00</td>\n",
       "      <td>3351</td>\n",
       "      <td>39.996552</td>\n",
       "      <td>-75.149910</td>\n",
       "      <td>3351</td>\n",
       "      <td>39.996552</td>\n",
       "      <td>-75.149910</td>\n",
       "      <td>18106</td>\n",
       "      <td>30.0</td>\n",
       "      <td>Round Trip</td>\n",
       "      <td>Indego30</td>\n",
       "      <td>electric</td>\n",
       "      <td>2024-09-30</td>\n",
       "    </tr>\n",
       "    <tr>\n",
       "      <th>6070971</th>\n",
       "      <td>1050268044</td>\n",
       "      <td>7</td>\n",
       "      <td>2024-09-30 23:56:00</td>\n",
       "      <td>2024-10-01 00:03:00</td>\n",
       "      <td>3114</td>\n",
       "      <td>39.937752</td>\n",
       "      <td>-75.180122</td>\n",
       "      <td>3032</td>\n",
       "      <td>39.945271</td>\n",
       "      <td>-75.179710</td>\n",
       "      <td>22428</td>\n",
       "      <td>365.0</td>\n",
       "      <td>One Way</td>\n",
       "      <td>Indego365</td>\n",
       "      <td>electric</td>\n",
       "      <td>2024-09-30</td>\n",
       "    </tr>\n",
       "    <tr>\n",
       "      <th>6070972</th>\n",
       "      <td>1050297763</td>\n",
       "      <td>56</td>\n",
       "      <td>2024-09-30 23:58:00</td>\n",
       "      <td>2024-10-01 00:54:00</td>\n",
       "      <td>3347</td>\n",
       "      <td>39.954842</td>\n",
       "      <td>-75.154488</td>\n",
       "      <td>3025</td>\n",
       "      <td>39.937241</td>\n",
       "      <td>-75.161201</td>\n",
       "      <td>11816</td>\n",
       "      <td>30.0</td>\n",
       "      <td>One Way</td>\n",
       "      <td>Indego30</td>\n",
       "      <td>standard</td>\n",
       "      <td>2024-09-30</td>\n",
       "    </tr>\n",
       "    <tr>\n",
       "      <th>6070973</th>\n",
       "      <td>1050296148</td>\n",
       "      <td>18</td>\n",
       "      <td>2024-09-30 23:59:00</td>\n",
       "      <td>2024-10-01 00:17:00</td>\n",
       "      <td>3210</td>\n",
       "      <td>39.984921</td>\n",
       "      <td>-75.156677</td>\n",
       "      <td>3210</td>\n",
       "      <td>39.984921</td>\n",
       "      <td>-75.156677</td>\n",
       "      <td>14689</td>\n",
       "      <td>30.0</td>\n",
       "      <td>Round Trip</td>\n",
       "      <td>Indego30</td>\n",
       "      <td>standard</td>\n",
       "      <td>2024-09-30</td>\n",
       "    </tr>\n",
       "  </tbody>\n",
       "</table>\n",
       "</div>"
      ],
      "text/plain": [
       "            trip_id  duration          start_time            end_time  \\\n",
       "6070969  1050279960        13 2024-09-30 23:55:00 2024-10-01 00:08:00   \n",
       "6070970  1050293367        19 2024-09-30 23:55:00 2024-10-01 00:14:00   \n",
       "6070971  1050268044         7 2024-09-30 23:56:00 2024-10-01 00:03:00   \n",
       "6070972  1050297763        56 2024-09-30 23:58:00 2024-10-01 00:54:00   \n",
       "6070973  1050296148        18 2024-09-30 23:59:00 2024-10-01 00:17:00   \n",
       "\n",
       "         start_station  start_lat  start_lon  end_station    end_lat  \\\n",
       "6070969           3033  39.950050 -75.156723         3061  39.954250   \n",
       "6070970           3351  39.996552 -75.149910         3351  39.996552   \n",
       "6070971           3114  39.937752 -75.180122         3032  39.945271   \n",
       "6070972           3347  39.954842 -75.154488         3025  39.937241   \n",
       "6070973           3210  39.984921 -75.156677         3210  39.984921   \n",
       "\n",
       "           end_lon bike_id  plan_duration trip_route_category passholder_type  \\\n",
       "6070969 -75.177612    5323           30.0             One Way        Indego30   \n",
       "6070970 -75.149910   18106           30.0          Round Trip        Indego30   \n",
       "6070971 -75.179710   22428          365.0             One Way       Indego365   \n",
       "6070972 -75.161201   11816           30.0             One Way        Indego30   \n",
       "6070973 -75.156677   14689           30.0          Round Trip        Indego30   \n",
       "\n",
       "        bike_type  start_date  \n",
       "6070969  standard  2024-09-30  \n",
       "6070970  electric  2024-09-30  \n",
       "6070971  electric  2024-09-30  \n",
       "6070972  standard  2024-09-30  \n",
       "6070973  standard  2024-09-30  "
      ]
     },
     "execution_count": 178,
     "metadata": {},
     "output_type": "execute_result"
    }
   ],
   "source": [
    "df.tail()"
   ]
  },
  {
   "cell_type": "code",
   "execution_count": 175,
   "id": "4e6b127f-1e86-423b-a8c8-3902da47a071",
   "metadata": {},
   "outputs": [
    {
     "data": {
      "text/plain": [
       "array([ 30., 365.,   0.,   1.,   2.,  nan, 180., 240.])"
      ]
     },
     "execution_count": 175,
     "metadata": {},
     "output_type": "execute_result"
    }
   ],
   "source": [
    "df['plan_duration'].unique()"
   ]
  }
 ],
 "metadata": {
  "kernelspec": {
   "display_name": "Python 3 (ipykernel)",
   "language": "python",
   "name": "python3"
  },
  "language_info": {
   "codemirror_mode": {
    "name": "ipython",
    "version": 3
   },
   "file_extension": ".py",
   "mimetype": "text/x-python",
   "name": "python",
   "nbconvert_exporter": "python",
   "pygments_lexer": "ipython3",
   "version": "3.11.4"
  }
 },
 "nbformat": 4,
 "nbformat_minor": 5
}
